{
  "nbformat": 4,
  "nbformat_minor": 0,
  "metadata": {
    "colab": {
      "name": "regularexpress.ipynb",
      "provenance": [],
      "collapsed_sections": [],
      "authorship_tag": "ABX9TyPrb882J023/PhEiM16cyn/",
      "include_colab_link": true
    },
    "kernelspec": {
      "name": "python3",
      "display_name": "Python 3"
    },
    "language_info": {
      "name": "python"
    }
  },
  "cells": [
    {
      "cell_type": "markdown",
      "metadata": {
        "id": "view-in-github",
        "colab_type": "text"
      },
      "source": [
        "<a href=\"https://colab.research.google.com/github/sparkprvn/python_coding/blob/main/regularexpress.ipynb\" target=\"_parent\"><img src=\"https://colab.research.google.com/assets/colab-badge.svg\" alt=\"Open In Colab\"/></a>"
      ]
    },
    {
      "cell_type": "markdown",
      "source": [
        "Using Regualar expressions to find any unwanted characters or desired characters in the variable.\n",
        "\n",
        "Examples from https://www.knowprogram.com/"
      ],
      "metadata": {
        "id": "u1M92RVnz8Ni"
      }
    },
    {
      "cell_type": "code",
      "execution_count": 2,
      "metadata": {
        "colab": {
          "base_uri": "https://localhost:8080/"
        },
        "id": "vDPC-R5sz7Su",
        "outputId": "fdf9a887-8fee-4e30-ce3d-07a944a33ee9"
      },
      "outputs": [
        {
          "output_type": "stream",
          "name": "stdout",
          "text": [
            "Enter any string: Re34#$$#@\n",
            "String has special characters...\n"
          ]
        }
      ],
      "source": [
        "# check for special characters \n",
        "import re  # library to use\n",
        "\n",
        "string = input('Enter any string: ')  # give some input with special characters\n",
        "\n",
        "# this context helps you in identifying what special characters will be like in the string input\n",
        "special_char = re.compile('[@_!#$%^&*()<>?/\\|}{~:]') \n",
        "\n",
        "# if condition is used to print true or false as we check the string input\n",
        "if(special_char.search(string) == None):\n",
        "    print('String has no special characters...')\n",
        "else:\n",
        "    print('String has special characters...')\n"
      ]
    },
    {
      "cell_type": "code",
      "source": [
        "# Use while loop to test multiple strings at a time \n",
        "import re  # library to use\n",
        "\n",
        "# this context helps you in identifying what special characters will be like in the string input\n",
        "special_char = re.compile('[@_!#$%^&*()<>?/\\|}{~:]') \n",
        "\n",
        "checker = 1\n",
        "while checker < 4: # This would loop for atleast 3 strings \n",
        "# if condition is used to print true or false as we check the string input\n",
        "  print(\" Try no: \" + str(checker))\n",
        "  string = input('Enter any string: ')  # give some input with special characters\n",
        "  if(special_char.search(string) == None):\n",
        "      print('String has no special characters...')\n",
        "  else:\n",
        "      print('String has special characters...')\n",
        "  checker +=1\n"
      ],
      "metadata": {
        "colab": {
          "base_uri": "https://localhost:8080/"
        },
        "id": "cPSGGta00spO",
        "outputId": "a8bd7673-8923-4cca-9535-f3e9bf668189"
      },
      "execution_count": 5,
      "outputs": [
        {
          "output_type": "stream",
          "name": "stdout",
          "text": [
            " Try no: 1\n",
            "Enter any string: Reddy\n",
            "String has no special characters...\n",
            " Try no: 2\n",
            "Enter any string: Re$$@\n",
            "String has special characters...\n",
            " Try no: 3\n",
            "Enter any string: K$%^ar\n",
            "String has special characters...\n"
          ]
        }
      ]
    },
    {
      "cell_type": "code",
      "source": [
        ""
      ],
      "metadata": {
        "id": "kg6Q6pNq1mPB"
      },
      "execution_count": null,
      "outputs": []
    }
  ]
}