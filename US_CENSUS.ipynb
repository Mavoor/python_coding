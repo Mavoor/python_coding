{
  "nbformat": 4,
  "nbformat_minor": 0,
  "metadata": {
    "colab": {
      "name": "US_CENSUS.ipynb",
      "provenance": [],
      "collapsed_sections": [],
      "authorship_tag": "ABX9TyMpywhiNyhks/w07UvWIhKL",
      "include_colab_link": true
    },
    "kernelspec": {
      "name": "python3",
      "display_name": "Python 3"
    },
    "language_info": {
      "name": "python"
    }
  },
  "cells": [
    {
      "cell_type": "markdown",
      "metadata": {
        "id": "view-in-github",
        "colab_type": "text"
      },
      "source": [
        "<a href=\"https://colab.research.google.com/github/sparkprvn/python_coding/blob/main/US_CENSUS.ipynb\" target=\"_parent\"><img src=\"https://colab.research.google.com/assets/colab-badge.svg\" alt=\"Open In Colab\"/></a>"
      ]
    },
    {
      "cell_type": "code",
      "execution_count": null,
      "metadata": {
        "id": "c63Q1j25fheD"
      },
      "outputs": [],
      "source": [
        "# Aanlysis on US Census data using python\n",
        "\n",
        "# What percentage of Hispanics identify as White?\n",
        "print(100 * states['hispanic_white'].sum() / states['hispanic'].sum())"
      ]
    },
    {
      "cell_type": "code",
      "source": [
        "# Set list of Hispanic race column names\n",
        "hispanic_races = [\n",
        "    \"hispanic_white\", \n",
        "    \"hispanic_black\", \"hispanic_aian\", \n",
        "    \"hispanic_asian\", \"hispanic_pacific\", \n",
        "    \"hispanic_other\", \"hispanic_multiracial\"\n",
        "    ]\n",
        "\n",
        "# What percentage of Hispanics identify as each race?\n",
        "print(100 * states[hispanic_races].sum() / states[\"hispanic\"].sum())\n"
      ],
      "metadata": {
        "id": "0rkKnFB2fp2u"
      },
      "execution_count": null,
      "outputs": []
    }
  ]
}