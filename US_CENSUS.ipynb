{
  "nbformat": 4,
  "nbformat_minor": 0,
  "metadata": {
    "colab": {
      "name": "US_CENSUS.ipynb",
      "provenance": [],
      "collapsed_sections": [],
      "authorship_tag": "ABX9TyOEVZPQPsyp+3x7myTquxDg",
      "include_colab_link": true
    },
    "kernelspec": {
      "name": "python3",
      "display_name": "Python 3"
    },
    "language_info": {
      "name": "python"
    }
  },
  "cells": [
    {
      "cell_type": "markdown",
      "metadata": {
        "id": "view-in-github",
        "colab_type": "text"
      },
      "source": [
        "<a href=\"https://colab.research.google.com/github/sparkprvn/python_coding/blob/main/US_CENSUS.ipynb\" target=\"_parent\"><img src=\"https://colab.research.google.com/assets/colab-badge.svg\" alt=\"Open In Colab\"/></a>"
      ]
    },
    {
      "cell_type": "code",
      "execution_count": null,
      "metadata": {
        "id": "c63Q1j25fheD"
      },
      "outputs": [],
      "source": [
        "# Aanlysis on US Census data using python\n",
        "\n",
        "# What percentage of Hispanics identify as White?\n",
        "print(100 * states['hispanic_white'].sum() / states['hispanic'].sum())"
      ]
    }
  ]
}