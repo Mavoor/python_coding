{
  "nbformat": 4,
  "nbformat_minor": 0,
  "metadata": {
    "colab": {
      "name": "US_CENSUS.ipynb",
      "provenance": [],
      "collapsed_sections": [],
      "authorship_tag": "ABX9TyPe25xNYn4eVOUfUiXpED4d",
      "include_colab_link": true
    },
    "kernelspec": {
      "name": "python3",
      "display_name": "Python 3"
    },
    "language_info": {
      "name": "python"
    }
  },
  "cells": [
    {
      "cell_type": "markdown",
      "metadata": {
        "id": "view-in-github",
        "colab_type": "text"
      },
      "source": [
        "<a href=\"https://colab.research.google.com/github/sparkprvn/python_coding/blob/main/US_CENSUS.ipynb\" target=\"_parent\"><img src=\"https://colab.research.google.com/assets/colab-badge.svg\" alt=\"Open In Colab\"/></a>"
      ]
    },
    {
      "cell_type": "code",
      "execution_count": null,
      "metadata": {
        "id": "c63Q1j25fheD"
      },
      "outputs": [],
      "source": [
        "# Aanlysis on US Census data using python\n",
        "\n",
        "# What percentage of Hispanics identify as White?\n",
        "print(100 * states['hispanic_white'].sum() / states['hispanic'].sum())"
      ]
    },
    {
      "cell_type": "code",
      "source": [
        "# Set list of Hispanic race column names\n",
        "hispanic_races = [\n",
        "    \"hispanic_white\", \n",
        "    \"hispanic_black\", \"hispanic_aian\", \n",
        "    \"hispanic_asian\", \"hispanic_pacific\", \n",
        "    \"hispanic_other\", \"hispanic_multiracial\"\n",
        "    ]\n",
        "\n",
        "# What percentage of Hispanics identify as each race?\n",
        "print(100 * states[hispanic_races].sum() / states[\"hispanic\"].sum())\n"
      ],
      "metadata": {
        "id": "0rkKnFB2fp2u"
      },
      "execution_count": null,
      "outputs": []
    },
    {
      "cell_type": "code",
      "source": [
        "# What percentage of Hispanics identify as each race?\n",
        "print(100 * states[hispanic_races].sum() / states[\"hispanic\"].sum())\n",
        "\n",
        "# Create a deep copy of only the Hispanic race columns\n",
        "states_hr = states[hispanic_races].copy()\n",
        "\n",
        "# Calculate percentages for all columns in the date frame\n",
        "for race in hispanic_races:\n",
        "    states_hr[race] = 100 * states_hr[race] / states[\"hispanic\"]\n",
        "\n",
        "# View the result\n",
        "print(states_hr.head())\n"
      ],
      "metadata": {
        "id": "hsB63lzQgTzE"
      },
      "execution_count": null,
      "outputs": []
    },
    {
      "cell_type": "code",
      "source": [
        "# Import seaborn and matplotlib.plt\n",
        "import matplotlib.pyplot as plt\n",
        "import seaborn as sns\n",
        "sns.set()\n",
        "\n",
        "# Create a boxplot\n",
        "sns.boxplot(data = states_hr, orient = \"h\")\n",
        "plt.show()\n",
        "\n",
        "# Show states with extreme values in various columns\n",
        "print(states_hr.nlargest(1, 'hispanic_white').squeeze())\n",
        "print(states_hr.nsmallest(1,'hispanic_other').squeeze())\n",
        "print(states_hr.nlargest(1,'hispanic_asian').squeeze())"
      ],
      "metadata": {
        "id": "1DrPFKuPlD99"
      },
      "execution_count": null,
      "outputs": []
    },
    {
      "cell_type": "code",
      "source": [
        "# Build base URL\n",
        "HOST = \"https://api.census.gov/data\"\n",
        "year = \"2010\"\n",
        "dataset = \"dec/sf1\"\n",
        "base_url = \"/\".join([HOST, year, dataset])\n",
        "\n",
        "# Specify Census variables and other predicates\n",
        "get_vars = [\"NAME\", \"P013001\", \"P037001\"]\n",
        "predicates = {}\n",
        "predicates[\"get\"] = \",\".join(get_vars)\n",
        "predicates[\"for\"] = \"state:*\"\n",
        "\n",
        "# Execute the request, examine text of response object\n",
        "r = requests.get(base_url, params=predicates)\n",
        "print(r.text)"
      ],
      "metadata": {
        "id": "Rc-ZrT1snM2_"
      },
      "execution_count": null,
      "outputs": []
    }
  ]
}