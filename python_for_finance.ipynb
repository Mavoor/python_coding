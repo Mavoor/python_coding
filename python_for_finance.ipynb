{
  "nbformat": 4,
  "nbformat_minor": 0,
  "metadata": {
    "colab": {
      "name": "python_for_finance.ipynb",
      "provenance": [],
      "collapsed_sections": [],
      "authorship_tag": "ABX9TyOzjFcoka2liK9e62E4AyeZ",
      "include_colab_link": true
    },
    "kernelspec": {
      "name": "python3",
      "display_name": "Python 3"
    },
    "language_info": {
      "name": "python"
    }
  },
  "cells": [
    {
      "cell_type": "markdown",
      "metadata": {
        "id": "view-in-github",
        "colab_type": "text"
      },
      "source": [
        "<a href=\"https://colab.research.google.com/github/sparkprvn/python_coding/blob/main/python_for_finance.ipynb\" target=\"_parent\"><img src=\"https://colab.research.google.com/assets/colab-badge.svg\" alt=\"Open In Colab\"/></a>"
      ]
    },
    {
      "cell_type": "code",
      "execution_count": null,
      "metadata": {
        "id": "wDu0CqxflR1w"
      },
      "outputs": [],
      "source": [
        "# Update data types\n",
        "year_1_str = str(year_1)\n",
        "revenue_1_str = str(revenue_1)\n",
        "\n",
        "# Create a complete sentence combining only the string data types\n",
        "sentence = 'The revenue of ' + company_1 + ' in ' + year_1_str + ' was $' + revenue_1_str + ' billion.'\n",
        "\n",
        "# Print sentence\n",
        "print(sentence)"
      ]
    },
    {
      "cell_type": "code",
      "source": [
        "# Create and print list names\n",
        "names = ['Apple Inc','Coca-Cola','Walmart']\n",
        "print(names)\n",
        "\n",
        "# Create and print list prices\n",
        "prices = [159.54,37.13,71.17]\n",
        "print(prices)"
      ],
      "metadata": {
        "id": "yqCaZeVSl-Sg"
      },
      "execution_count": null,
      "outputs": []
    },
    {
      "cell_type": "code",
      "source": [
        "# Print the first item in names\n",
        "print(names[0])\n",
        "\n",
        "# Print the second item in names\n",
        "print(names[1])\n",
        "\n",
        "# Print the last element in prices\n",
        "print(prices[-1])"
      ],
      "metadata": {
        "id": "PmHWual1mRY2"
      },
      "execution_count": null,
      "outputs": []
    },
    {
      "cell_type": "code",
      "source": [
        "# prices\n",
        "prices = [159.54, 37.13, 71.17]\n",
        "\n",
        "# Use extended slicing on the list prices\n",
        "prices_subset = prices[:2]\n",
        "print(prices_subset)\n",
        "\n"
      ],
      "metadata": {
        "id": "r25c0Uijqmfb"
      },
      "execution_count": null,
      "outputs": []
    },
    {
      "cell_type": "code",
      "source": [
        "# names\n",
        "names = ['Apple Inc', 'Coca-Cola', 'Walmart']\n",
        "\n",
        "# Use slicing on list names\n",
        "names_subset = names[1:]\n",
        "print(names_subset)"
      ],
      "metadata": {
        "id": "FEVcvHJtqtbI"
      },
      "execution_count": null,
      "outputs": []
    },
    {
      "cell_type": "code",
      "source": [
        "# Create and print the nested list stocks\n",
        "stocks = [names, prices]\n",
        "print(stocks)\n",
        "\n",
        "# Use list indexing to obtain the list of prices\n",
        "print(stocks[1])"
      ],
      "metadata": {
        "id": "_nfGelnJzgdk"
      },
      "execution_count": null,
      "outputs": []
    },
    {
      "cell_type": "code",
      "source": [
        "# Use indexing to obtain company name Coca-Cola\n",
        "print(stocks[0][1])\n",
        "\n",
        "# Use indexing to obtain 71.17\n",
        "print(stocks[1][2])"
      ],
      "metadata": {
        "id": "5LWV7I-F0zsm"
      },
      "execution_count": null,
      "outputs": []
    },
    {
      "cell_type": "code",
      "source": [
        "# Print the sorted list prices\n",
        "prices = [159.54, 37.13, 71.17]\n",
        "prices.sort()\n",
        "print(prices)"
      ],
      "metadata": {
        "id": "juJZEHGY1Db7"
      },
      "execution_count": null,
      "outputs": []
    },
    {
      "cell_type": "code",
      "source": [
        "# Find the maximum price in the list price\n",
        "prices = [159.54, 37.13, 71.17]\n",
        "price_max = max(prices)\n",
        "print(price_max)"
      ],
      "metadata": {
        "id": "CMApKoEG1TaB"
      },
      "execution_count": null,
      "outputs": []
    },
    {
      "cell_type": "code",
      "source": [
        "# Append a name to the list names\n",
        "names.append('Amazon.com')\n",
        "print(names)\n",
        "\n",
        "# Extend list names\n",
        "more_elements = ['DowDuPont', 'Alphabet Inc']\n",
        "names.extend(more_elements)\n",
        "print(names)"
      ],
      "metadata": {
        "id": "2E-s2GeZ1klq"
      },
      "execution_count": null,
      "outputs": []
    },
    {
      "cell_type": "code",
      "source": [
        "# Do not modify this\n",
        "max_price = max(prices)\n",
        "\n",
        "# Identify index of max price\n",
        "max_index = prices.index(max_price)\n",
        "\n",
        "\n",
        "# Identify the name of the company with max price\n",
        "max_stock_name = names[max_index]\n",
        "\n",
        "# Fill in the blanks \n",
        "print('The largest stock price is associated with ' + max_stock_name + ' and is $' + str(max_price) + '.')"
      ],
      "metadata": {
        "id": "reFeQ2yo2Z7u"
      },
      "execution_count": null,
      "outputs": []
    }
  ]
}