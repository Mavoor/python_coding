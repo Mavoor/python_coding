{
  "nbformat": 4,
  "nbformat_minor": 0,
  "metadata": {
    "colab": {
      "name": "python_for_finance.ipynb",
      "provenance": [],
      "collapsed_sections": [],
      "authorship_tag": "ABX9TyPu+czlJtBJ/tsU1w7MOzy5",
      "include_colab_link": true
    },
    "kernelspec": {
      "name": "python3",
      "display_name": "Python 3"
    },
    "language_info": {
      "name": "python"
    }
  },
  "cells": [
    {
      "cell_type": "markdown",
      "metadata": {
        "id": "view-in-github",
        "colab_type": "text"
      },
      "source": [
        "<a href=\"https://colab.research.google.com/github/sparkprvn/python_coding/blob/main/python_for_finance.ipynb\" target=\"_parent\"><img src=\"https://colab.research.google.com/assets/colab-badge.svg\" alt=\"Open In Colab\"/></a>"
      ]
    },
    {
      "cell_type": "code",
      "execution_count": null,
      "metadata": {
        "id": "wDu0CqxflR1w"
      },
      "outputs": [],
      "source": [
        "# Update data types\n",
        "year_1_str = str(year_1)\n",
        "revenue_1_str = str(revenue_1)\n",
        "\n",
        "# Create a complete sentence combining only the string data types\n",
        "sentence = 'The revenue of ' + company_1 + ' in ' + year_1_str + ' was $' + revenue_1_str + ' billion.'\n",
        "\n",
        "# Print sentence\n",
        "print(sentence)"
      ]
    },
    {
      "cell_type": "code",
      "source": [
        "# Create and print list names\n",
        "names = ['Apple Inc','Coca-Cola','Walmart']\n",
        "print(names)\n",
        "\n",
        "# Create and print list prices\n",
        "prices = [159.54,37.13,71.17]\n",
        "print(prices)"
      ],
      "metadata": {
        "id": "yqCaZeVSl-Sg"
      },
      "execution_count": null,
      "outputs": []
    },
    {
      "cell_type": "code",
      "source": [
        "# Print the first item in names\n",
        "print(names[0])\n",
        "\n",
        "# Print the second item in names\n",
        "print(names[1])\n",
        "\n",
        "# Print the last element in prices\n",
        "print(prices[-1])"
      ],
      "metadata": {
        "id": "PmHWual1mRY2"
      },
      "execution_count": null,
      "outputs": []
    },
    {
      "cell_type": "code",
      "source": [
        "# prices\n",
        "prices = [159.54, 37.13, 71.17]\n",
        "\n",
        "# Use extended slicing on the list prices\n",
        "prices_subset = prices[:2]\n",
        "print(prices_subset)\n",
        "\n"
      ],
      "metadata": {
        "id": "r25c0Uijqmfb"
      },
      "execution_count": null,
      "outputs": []
    },
    {
      "cell_type": "code",
      "source": [
        "# names\n",
        "names = ['Apple Inc', 'Coca-Cola', 'Walmart']\n",
        "\n",
        "# Use slicing on list names\n",
        "names_subset = names[1:]\n",
        "print(names_subset)"
      ],
      "metadata": {
        "id": "FEVcvHJtqtbI"
      },
      "execution_count": null,
      "outputs": []
    },
    {
      "cell_type": "code",
      "source": [
        "# Create and print the nested list stocks\n",
        "stocks = [names, prices]\n",
        "print(stocks)\n",
        "\n",
        "# Use list indexing to obtain the list of prices\n",
        "print(stocks[1])"
      ],
      "metadata": {
        "id": "_nfGelnJzgdk"
      },
      "execution_count": null,
      "outputs": []
    },
    {
      "cell_type": "code",
      "source": [
        "# Use indexing to obtain company name Coca-Cola\n",
        "print(stocks[0][1])\n",
        "\n",
        "# Use indexing to obtain 71.17\n",
        "print(stocks[1][2])"
      ],
      "metadata": {
        "id": "5LWV7I-F0zsm"
      },
      "execution_count": null,
      "outputs": []
    },
    {
      "cell_type": "code",
      "source": [
        "# Print the sorted list prices\n",
        "prices = [159.54, 37.13, 71.17]\n",
        "prices.sort()\n",
        "print(prices)"
      ],
      "metadata": {
        "id": "juJZEHGY1Db7"
      },
      "execution_count": null,
      "outputs": []
    },
    {
      "cell_type": "code",
      "source": [
        "# Find the maximum price in the list price\n",
        "prices = [159.54, 37.13, 71.17]\n",
        "price_max = max(prices)\n",
        "print(price_max)"
      ],
      "metadata": {
        "id": "CMApKoEG1TaB"
      },
      "execution_count": null,
      "outputs": []
    },
    {
      "cell_type": "code",
      "source": [
        "# Append a name to the list names\n",
        "names.append('Amazon.com')\n",
        "print(names)\n",
        "\n",
        "# Extend list names\n",
        "more_elements = ['DowDuPont', 'Alphabet Inc']\n",
        "names.extend(more_elements)\n",
        "print(names)"
      ],
      "metadata": {
        "id": "2E-s2GeZ1klq"
      },
      "execution_count": null,
      "outputs": []
    },
    {
      "cell_type": "code",
      "source": [
        "# Do not modify this\n",
        "max_price = max(prices)\n",
        "\n",
        "# Identify index of max price\n",
        "max_index = prices.index(max_price)\n",
        "\n",
        "\n",
        "# Identify the name of the company with max price\n",
        "max_stock_name = names[max_index]\n",
        "\n",
        "# Fill in the blanks \n",
        "print('The largest stock price is associated with ' + max_stock_name + ' and is $' + str(max_price) + '.')"
      ],
      "metadata": {
        "id": "reFeQ2yo2Z7u"
      },
      "execution_count": null,
      "outputs": []
    },
    {
      "cell_type": "code",
      "source": [
        "# Import numpy as np\n",
        "import numpy as np\n",
        "\n",
        "# Lists\n",
        "prices = [170.12, 93.29, 55.28, 145.30, 171.81, 59.50, 100.50]\n",
        "earnings = [9.2, 5.31, 2.41, 5.91, 15.42, 2.51, 6.79]\n",
        "\n",
        "# NumPy arrays\n",
        "prices_array = np.array(prices)\n",
        "earnings_array = np.array(earnings)\n",
        "\n",
        "# Print the arrays\n",
        "print(prices_array)\n",
        "print(earnings_array)"
      ],
      "metadata": {
        "id": "triRCFbR4Ea3"
      },
      "execution_count": null,
      "outputs": []
    },
    {
      "cell_type": "code",
      "source": [
        "# Import numpy as np\n",
        "import numpy as np\n",
        "\n",
        "# Create PE ratio array\n",
        "pe_array = prices_array / earnings_array\n",
        "\n",
        "# Print pe_array\n",
        "print(pe_array)"
      ],
      "metadata": {
        "id": "4pH0Fk_x6G2W"
      },
      "execution_count": null,
      "outputs": []
    },
    {
      "cell_type": "code",
      "source": [
        "# Subset last three elements \n",
        "prices_subset_2 = prices_array[-3:]\n",
        "print(prices_subset_2)\n",
        "\n",
        "# Subset the first three elements\n",
        "prices_subset_1 = prices_array[:3]\n",
        "print(prices_subset_1)\n",
        "\n",
        "# Subset every third element\n",
        "prices_subset_3 = prices_array[0:7:3]\n",
        "print(prices_subset_3)"
      ],
      "metadata": {
        "id": "NYyN2iu_7Qs2"
      },
      "execution_count": null,
      "outputs": []
    },
    {
      "cell_type": "code",
      "source": [
        "# Create a 2D array of prices and earnings\n",
        "stock_array = np.array([prices,earnings])\n",
        "print(stock_array)\n",
        "\n",
        "# Print the shape of stock_array\n",
        "print(stock_array.shape)\n",
        "\n",
        "# Print the size of stock_array\n",
        "print(stock_array.size)"
      ],
      "metadata": {
        "id": "VGOArD-28QyP"
      },
      "execution_count": null,
      "outputs": []
    },
    {
      "cell_type": "code",
      "source": [
        "# Transpose stock_array\n",
        "stock_array_transposed = np.transpose(stock_array)\n",
        "print(stock_array_transposed)\n",
        "\n",
        "# Print the shape of stock_array\n",
        "print(stock_array_transposed.shape)\n",
        "\n",
        "# Print the size of stock_array\n",
        "print(stock_array_transposed.size)"
      ],
      "metadata": {
        "id": "coHjIH_s8dP7"
      },
      "execution_count": null,
      "outputs": []
    },
    {
      "cell_type": "code",
      "source": [
        "#selecting rows\n",
        "# Subset the price and earning for first company\n",
        "company_1 = stock_array_transposed[0,:]\n",
        "print(company_1)\n",
        "\n",
        "#selecting columns\n",
        "# Subset earnings from stock_array_transposed\n",
        "earnings = stock_array_transposed[:,1]\n",
        "print(earnings)\n",
        "\n",
        "# Subset prices from stock_array_transposed\n",
        "prices = stock_array_transposed[:, 0]\n",
        "print(prices)"
      ],
      "metadata": {
        "id": "e_DZ3ZOq9D75"
      },
      "execution_count": null,
      "outputs": []
    },
    {
      "cell_type": "code",
      "source": [
        "# Calculate the standard deviation \n",
        "prices_std = np.std(prices)\n",
        "print(prices_std)\n",
        "\n",
        "# Calculate the mean \n",
        "prices_mean = np.mean(prices)\n",
        "print(prices_mean)"
      ],
      "metadata": {
        "id": "cTmj4WkX9u0x"
      },
      "execution_count": null,
      "outputs": []
    },
    {
      "cell_type": "code",
      "source": [
        "# Create and print company IDs\n",
        "company_ids = np.arange(1, 8, 1)\n",
        "print(company_ids)\n",
        "\n",
        "# Use array slicing to select specific company IDs\n",
        "company_ids_odd = np.arange(1, 8,2)\n",
        "print(company_ids_odd)"
      ],
      "metadata": {
        "id": "Y6vtMA-8_khB"
      },
      "execution_count": null,
      "outputs": []
    },
    {
      "cell_type": "code",
      "source": [
        "# Find the mean\n",
        "price_mean = np.mean(prices)\n",
        "\n",
        "# Create boolean array\n",
        "boolean_array = (prices > price_mean)\n",
        "print(boolean_array)\n",
        "\n",
        "# Select prices that are greater than average\n",
        "above_avg = prices[boolean_array]\n",
        "print(above_avg)"
      ],
      "metadata": {
        "id": "rh_qQVDt37Pk"
      },
      "execution_count": null,
      "outputs": []
    },
    {
      "cell_type": "code",
      "source": [
        "# Create boolean array\n",
        "boolean_array = (sectors == 'Health Care')\n",
        "print(boolean_array)\n",
        "\n",
        "# Print only health care companies\n",
        "health_care = names[boolean_array]\n",
        "print(health_care)"
      ],
      "metadata": {
        "id": "cbjMaQGN4N1j"
      },
      "execution_count": null,
      "outputs": []
    },
    {
      "cell_type": "code",
      "source": [
        "# Import matplotlib.pyplot with the alias plt\n",
        "import matplotlib.pyplot as plt\n",
        "\n",
        "# Plot the price of stock over time\n",
        "plt.plot(days, prices, color=\"red\", linestyle=\"--\")\n",
        "\n",
        "# Display the plot\n",
        "plt.show()"
      ],
      "metadata": {
        "id": "8nFoDhLo42hG"
      },
      "execution_count": null,
      "outputs": []
    },
    {
      "cell_type": "code",
      "source": [
        "import matplotlib.pyplot as plt\n",
        "\n",
        "# Plot price as a function of time\n",
        "plt.plot(days, prices, color=\"red\", linestyle=\"--\")\n",
        "\n",
        "# Add x and y labels\n",
        "plt.xlabel('Days')\n",
        "plt.ylabel('Prices, $')\n",
        "\n",
        "# Add plot title\n",
        "plt.title('Company Stock Prices Over Time')\n",
        "\n",
        "# Show plot\n",
        "plt.show()"
      ],
      "metadata": {
        "id": "Av2QNxUa6GLm"
      },
      "execution_count": null,
      "outputs": []
    },
    {
      "cell_type": "code",
      "source": [
        "# Plot two lines of varying colors \n",
        "plt.plot(days, prices1, color='red')\n",
        "plt.plot(days, prices2, color='green')\n",
        "\n",
        "# Add labels\n",
        "plt.xlabel('Days')\n",
        "plt.ylabel('Prices, $')\n",
        "plt.title('Stock Prices Over Time')\n",
        "plt.show()"
      ],
      "metadata": {
        "id": "YQ49LpPJHm1X"
      },
      "execution_count": null,
      "outputs": []
    },
    {
      "cell_type": "code",
      "source": [
        "# Import pyplot as plt\n",
        "import matplotlib.pyplot as plt\n",
        "\n",
        "# Plot price as a function of time\n",
        "plt.scatter(days, prices, color='green', s=0.1)\n",
        "\n",
        "# Show plot\n",
        "plt.show()"
      ],
      "metadata": {
        "id": "LNIiQ_9aICmL"
      },
      "execution_count": null,
      "outputs": []
    },
    {
      "cell_type": "code",
      "source": [
        "# Plot histogram \n",
        "plt.hist(prices, bins=100)\n",
        "\n",
        "# Display plot\n",
        "plt.show()"
      ],
      "metadata": {
        "id": "-vQDyeVe07We"
      },
      "execution_count": null,
      "outputs": []
    },
    {
      "cell_type": "code",
      "source": [
        "# Plot histogram of stocks_A\n",
        "plt.hist(stock_A, bins=100, alpha=0.4)\n",
        "\n",
        "# Plot histogram of stocks_B \n",
        "plt.hist(stock_B, bins=100, alpha=0.4)\n",
        "\n",
        "# Display plot\n",
        "plt.show()"
      ],
      "metadata": {
        "id": "0cvC6rQy1UTA"
      },
      "execution_count": null,
      "outputs": []
    }
  ]
}