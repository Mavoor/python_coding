{
  "nbformat": 4,
  "nbformat_minor": 0,
  "metadata": {
    "colab": {
      "name": "data_analysis_unique_nunique.ipynb",
      "provenance": [],
      "collapsed_sections": [],
      "authorship_tag": "ABX9TyN6rxPN60CvdgrmIx+TEIsr",
      "include_colab_link": true
    },
    "kernelspec": {
      "name": "python3",
      "display_name": "Python 3"
    },
    "language_info": {
      "name": "python"
    }
  },
  "cells": [
    {
      "cell_type": "markdown",
      "metadata": {
        "id": "view-in-github",
        "colab_type": "text"
      },
      "source": [
        "<a href=\"https://colab.research.google.com/github/sparkprvn/python_coding/blob/main/data_analysis_unique_nunique.ipynb\" target=\"_parent\"><img src=\"https://colab.research.google.com/assets/colab-badge.svg\" alt=\"Open In Colab\"/></a>"
      ]
    },
    {
      "cell_type": "markdown",
      "source": [
        "The following example is to work with unique and nunique in pandas. It is a practice code from geek for geeks"
      ],
      "metadata": {
        "id": "_Kd3sz1Kh_Zo"
      }
    },
    {
      "cell_type": "code",
      "execution_count": 1,
      "metadata": {
        "id": "3r3tv9uYggZv"
      },
      "outputs": [],
      "source": [
        "import pandas as pd"
      ]
    },
    {
      "cell_type": "code",
      "source": [
        "df = pd.read_csv('/data/employees.csv')\n",
        "df"
      ],
      "metadata": {
        "id": "tsJgiuLlgsUK"
      },
      "execution_count": null,
      "outputs": []
    },
    {
      "cell_type": "code",
      "source": [
        "# To find how many unique teams are there in the dataframe \n",
        "teams = df['Team'].unique()\n",
        "teams"
      ],
      "metadata": {
        "colab": {
          "base_uri": "https://localhost:8080/"
        },
        "id": "ykPw_RsoiZja",
        "outputId": "32019f8a-e262-4039-ca19-2c9ecd83c838"
      },
      "execution_count": 4,
      "outputs": [
        {
          "output_type": "execute_result",
          "data": {
            "text/plain": [
              "array(['Marketing', nan, 'Finance', 'Client Services', 'Legal', 'Product',\n",
              "       'Engineering', 'Business Development', 'Human Resources', 'Sales',\n",
              "       'Distribution'], dtype=object)"
            ]
          },
          "metadata": {},
          "execution_count": 4
        }
      ]
    },
    {
      "cell_type": "code",
      "source": [
        "# Finding out the unique teams gives list, we can also find the count of the unique teams available\n",
        "\n",
        "teams_count = df['Team'].nunique()\n",
        "teams_count"
      ],
      "metadata": {
        "colab": {
          "base_uri": "https://localhost:8080/"
        },
        "id": "dI206_LIiqh6",
        "outputId": "608601d4-923e-472b-c95b-a6d2000cea99"
      },
      "execution_count": 5,
      "outputs": [
        {
          "output_type": "execute_result",
          "data": {
            "text/plain": [
              "10"
            ]
          },
          "metadata": {},
          "execution_count": 5
        }
      ]
    },
    {
      "cell_type": "code",
      "source": [
        "#Another way of finding the count of the teams from the list of the unique teams is by using len() function on the array \n",
        "\n",
        "print(len(teams))"
      ],
      "metadata": {
        "colab": {
          "base_uri": "https://localhost:8080/"
        },
        "id": "EvhB3md6i-mr",
        "outputId": "a3bd3515-66f0-4c88-e140-6405faf982e1"
      },
      "execution_count": 6,
      "outputs": [
        {
          "output_type": "stream",
          "name": "stdout",
          "text": [
            "11\n"
          ]
        }
      ]
    },
    {
      "cell_type": "code",
      "source": [
        "# There is a difference in the count using nunique and len functions, this is because null values are not considered when counting \n",
        "print(len(teams),teams_count)"
      ],
      "metadata": {
        "colab": {
          "base_uri": "https://localhost:8080/"
        },
        "id": "m_IThI54jVgo",
        "outputId": "5f090c24-d472-41cc-9068-afb43c2ffbac"
      },
      "execution_count": 7,
      "outputs": [
        {
          "output_type": "stream",
          "name": "stdout",
          "text": [
            "11 10\n"
          ]
        }
      ]
    },
    {
      "cell_type": "code",
      "source": [
        ""
      ],
      "metadata": {
        "id": "i8xY8N_DjtC-"
      },
      "execution_count": null,
      "outputs": []
    }
  ]
}