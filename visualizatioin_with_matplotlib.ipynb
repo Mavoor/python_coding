{
  "nbformat": 4,
  "nbformat_minor": 0,
  "metadata": {
    "colab": {
      "name": "visualizatioin_with_matplotlib.ipynb",
      "provenance": [],
      "collapsed_sections": [],
      "authorship_tag": "ABX9TyNrCXjYddpyFvSNbWKUJN5L",
      "include_colab_link": true
    },
    "kernelspec": {
      "name": "python3",
      "display_name": "Python 3"
    },
    "language_info": {
      "name": "python"
    }
  },
  "cells": [
    {
      "cell_type": "markdown",
      "metadata": {
        "id": "view-in-github",
        "colab_type": "text"
      },
      "source": [
        "<a href=\"https://colab.research.google.com/github/sparkprvn/python_coding/blob/main/visualizatioin_with_matplotlib.ipynb\" target=\"_parent\"><img src=\"https://colab.research.google.com/assets/colab-badge.svg\" alt=\"Open In Colab\"/></a>"
      ]
    },
    {
      "cell_type": "code",
      "execution_count": null,
      "metadata": {
        "id": "eDLf0uFw7MG9"
      },
      "outputs": [],
      "source": [
        "# Import the matplotlib.pyplot submodule and name it plt\n",
        "import matplotlib.pyplot as plt\n",
        "\n",
        "# Create a Figure and an Axes with plt.subplots\n",
        "fig, ax = plt.subplots()\n",
        "\n",
        "# Call the show function to show the result\n",
        "plt.show()"
      ]
    },
    {
      "cell_type": "code",
      "source": [
        "# Import the matplotlib.pyplot submodule and name it plt\n",
        "import matplotlib.pyplot as plt\n",
        "\n",
        "# Create a Figure and an Axes with plt.subplots\n",
        "fig, ax = plt.subplots()\n",
        "\n",
        "# Plot MLY-PRCP-NORMAL from seattle_weather against the MONTH\n",
        "ax.plot(seattle_weather[\"MONTH\"], seattle_weather[\"MLY-PRCP-NORMAL\"])\n",
        "\n",
        "# Plot MLY-PRCP-NORMAL from austin_weather against MONTH\n",
        "ax.plot(austin_weather[\"MONTH\"], austin_weather[\"MLY-PRCP-NORMAL\"])\n",
        "\n",
        "# Call the show function\n",
        "plt.show()"
      ],
      "metadata": {
        "id": "fs2OZomg8YTg"
      },
      "execution_count": null,
      "outputs": []
    }
  ]
}