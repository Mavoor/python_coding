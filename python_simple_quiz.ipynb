{
  "nbformat": 4,
  "nbformat_minor": 0,
  "metadata": {
    "colab": {
      "name": "python_simple_quiz.ipynb",
      "provenance": [],
      "collapsed_sections": [],
      "authorship_tag": "ABX9TyNA6CunOttay9jfOf/QPsTr",
      "include_colab_link": true
    },
    "kernelspec": {
      "name": "python3",
      "display_name": "Python 3"
    },
    "language_info": {
      "name": "python"
    }
  },
  "cells": [
    {
      "cell_type": "markdown",
      "metadata": {
        "id": "view-in-github",
        "colab_type": "text"
      },
      "source": [
        "<a href=\"https://colab.research.google.com/github/sparkprvn/python_coding/blob/main/python_simple_quiz.ipynb\" target=\"_parent\"><img src=\"https://colab.research.google.com/assets/colab-badge.svg\" alt=\"Open In Colab\"/></a>"
      ]
    },
    {
      "cell_type": "markdown",
      "source": [
        "What will be output of the following print when the function is called?\n",
        "\n",
        "\n",
        "\n",
        "#sourced from @python_hub on instagram"
      ],
      "metadata": {
        "id": "fGY6nzdm1LH-"
      }
    },
    {
      "cell_type": "code",
      "execution_count": null,
      "metadata": {
        "id": "n0ABVpy30x-P"
      },
      "outputs": [],
      "source": [
        "def f_digit_print():\n",
        "  for num in range(34,35,36):\n",
        "    print(num)\n",
        "\n",
        "f_digit_print()"
      ]
    },
    {
      "cell_type": "code",
      "source": [
        "l_string = [\"kochi\",\"hyderabad\",\"delhi\"]\n",
        "for str in l_string:\n",
        "  l_string.append(str.upper())\n",
        "\n",
        "print(l_string)"
      ],
      "metadata": {
        "id": "nXDCH7pO1FbG"
      },
      "execution_count": null,
      "outputs": []
    },
    {
      "cell_type": "code",
      "source": [
        "x = 1\n",
        "while x < 10:\n",
        "  print(x)\n",
        "  x = x+2\n",
        "\n",
        "print(x)"
      ],
      "metadata": {
        "id": "qElPSXe_1zqg"
      },
      "execution_count": null,
      "outputs": []
    },
    {
      "cell_type": "code",
      "source": [
        "a = \"aberdeen\"\n",
        "b = \"aberdeeN\"\n",
        "\n",
        "print(a>b)\n",
        "print(b>a)"
      ],
      "metadata": {
        "id": "VFIr352_iNjJ"
      },
      "execution_count": null,
      "outputs": []
    },
    {
      "cell_type": "code",
      "source": [
        "def example_fun():\n",
        "  x = 150\n",
        "  return x\n",
        "\n",
        "x = example_fun() + 5\n",
        "print(x)\n",
        "\n"
      ],
      "metadata": {
        "id": "0ssvEk4eiqZs"
      },
      "execution_count": null,
      "outputs": []
    },
    {
      "cell_type": "code",
      "source": [
        "x = '2'\n",
        "y = '2'\n",
        "print(x + y)"
      ],
      "metadata": {
        "id": "yb5bAjyfjRQm"
      },
      "execution_count": null,
      "outputs": []
    },
    {
      "cell_type": "code",
      "source": [
        ""
      ],
      "metadata": {
        "id": "9Brqywq-jhwu"
      },
      "execution_count": null,
      "outputs": []
    }
  ]
}