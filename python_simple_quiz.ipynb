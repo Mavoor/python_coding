{
  "nbformat": 4,
  "nbformat_minor": 0,
  "metadata": {
    "colab": {
      "name": "python_simple_quiz.ipynb",
      "provenance": [],
      "collapsed_sections": [],
      "authorship_tag": "ABX9TyO4pV1UwNQonkoZyDROFwAH",
      "include_colab_link": true
    },
    "kernelspec": {
      "name": "python3",
      "display_name": "Python 3"
    },
    "language_info": {
      "name": "python"
    }
  },
  "cells": [
    {
      "cell_type": "markdown",
      "metadata": {
        "id": "view-in-github",
        "colab_type": "text"
      },
      "source": [
        "<a href=\"https://colab.research.google.com/github/sparkprvn/python_coding/blob/main/python_simple_quiz.ipynb\" target=\"_parent\"><img src=\"https://colab.research.google.com/assets/colab-badge.svg\" alt=\"Open In Colab\"/></a>"
      ]
    },
    {
      "cell_type": "markdown",
      "source": [
        "What will be output of the following print when the function is called?\n",
        "\n",
        "\n",
        "\n",
        "#sourced from @python_hub on instagram"
      ],
      "metadata": {
        "id": "fGY6nzdm1LH-"
      }
    },
    {
      "cell_type": "code",
      "execution_count": null,
      "metadata": {
        "id": "n0ABVpy30x-P"
      },
      "outputs": [],
      "source": [
        "def f_digit_print():\n",
        "  for num in range(34,35,36):\n",
        "    print(num)\n",
        "\n",
        "f_digit_print()"
      ]
    },
    {
      "cell_type": "code",
      "source": [
        "l_string = [\"kochi\",\"hyderabad\",\"delhi\"]\n",
        "for str in l_string:\n",
        "  l_string.append(str.upper())\n",
        "\n",
        "print(l_string)"
      ],
      "metadata": {
        "id": "nXDCH7pO1FbG"
      },
      "execution_count": null,
      "outputs": []
    },
    {
      "cell_type": "code",
      "source": [
        "x = 1\n",
        "while x < 10:\n",
        "  print(x)\n",
        "  x = x+2\n",
        "\n",
        "print(x)"
      ],
      "metadata": {
        "id": "qElPSXe_1zqg"
      },
      "execution_count": null,
      "outputs": []
    },
    {
      "cell_type": "code",
      "source": [
        "a = \"aberdeen\"\n",
        "b = \"aberdeeN\"\n",
        "\n",
        "print(a>b)\n",
        "print(b>a)"
      ],
      "metadata": {
        "id": "VFIr352_iNjJ"
      },
      "execution_count": null,
      "outputs": []
    },
    {
      "cell_type": "code",
      "source": [
        "def example_fun():\n",
        "  x = 150\n",
        "  return x\n",
        "\n",
        "x = example_fun() + 5\n",
        "print(x)\n",
        "\n"
      ],
      "metadata": {
        "id": "0ssvEk4eiqZs"
      },
      "execution_count": null,
      "outputs": []
    },
    {
      "cell_type": "code",
      "source": [
        "x = '2'\n",
        "y = '2'\n",
        "print(x + y)"
      ],
      "metadata": {
        "id": "yb5bAjyfjRQm"
      },
      "execution_count": null,
      "outputs": []
    },
    {
      "cell_type": "code",
      "source": [
        "def f(values):\n",
        "  values[0] = 1\n",
        "\n",
        "lst = [3,4,5]\n",
        "f(lst)\n",
        "print(lst)"
      ],
      "metadata": {
        "id": "9Brqywq-jhwu",
        "colab": {
          "base_uri": "https://localhost:8080/"
        },
        "outputId": "e8bb37b6-e3ca-445c-e5b5-75a6c7f7e554"
      },
      "execution_count": 2,
      "outputs": [
        {
          "output_type": "stream",
          "name": "stdout",
          "text": [
            "[1, 4, 5]\n"
          ]
        }
      ]
    },
    {
      "cell_type": "code",
      "source": [
        "b = 987\n",
        "def f_input():\n",
        "  b = []\n",
        "print(type(b))"
      ],
      "metadata": {
        "colab": {
          "base_uri": "https://localhost:8080/"
        },
        "id": "mPXVY6dqnRRh",
        "outputId": "050745af-7e2f-4cc4-cdf0-8fc622b0cedc"
      },
      "execution_count": 3,
      "outputs": [
        {
          "output_type": "stream",
          "name": "stdout",
          "text": [
            "<class 'int'>\n"
          ]
        }
      ]
    },
    {
      "cell_type": "code",
      "source": [
        "lst = [90,89,87,76]\n",
        "print(lst[::-2])"
      ],
      "metadata": {
        "colab": {
          "base_uri": "https://localhost:8080/"
        },
        "id": "c1jhh8k4nrj6",
        "outputId": "4e0712c2-46df-4607-dc9d-ae99d95d70ab"
      },
      "execution_count": 4,
      "outputs": [
        {
          "output_type": "stream",
          "name": "stdout",
          "text": [
            "[76, 89]\n"
          ]
        }
      ]
    },
    {
      "cell_type": "code",
      "source": [
        ""
      ],
      "metadata": {
        "id": "4cMORvE0n97E"
      },
      "execution_count": null,
      "outputs": []
    }
  ]
}