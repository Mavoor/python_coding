{
  "nbformat": 4,
  "nbformat_minor": 0,
  "metadata": {
    "colab": {
      "name": "python_simple_quiz.ipynb",
      "provenance": [],
      "collapsed_sections": [],
      "authorship_tag": "ABX9TyP3c0C61kPwv+f2S5ZVWjKE",
      "include_colab_link": true
    },
    "kernelspec": {
      "name": "python3",
      "display_name": "Python 3"
    },
    "language_info": {
      "name": "python"
    }
  },
  "cells": [
    {
      "cell_type": "markdown",
      "metadata": {
        "id": "view-in-github",
        "colab_type": "text"
      },
      "source": [
        "<a href=\"https://colab.research.google.com/github/sparkprvn/python_coding/blob/main/python_simple_quiz.ipynb\" target=\"_parent\"><img src=\"https://colab.research.google.com/assets/colab-badge.svg\" alt=\"Open In Colab\"/></a>"
      ]
    },
    {
      "cell_type": "markdown",
      "source": [
        "What will be output of the following print when the function is called?\n",
        "\n",
        "\n",
        "\n",
        "#sourced from @python_hub on instagram"
      ],
      "metadata": {
        "id": "fGY6nzdm1LH-"
      }
    },
    {
      "cell_type": "code",
      "execution_count": null,
      "metadata": {
        "id": "n0ABVpy30x-P"
      },
      "outputs": [],
      "source": [
        "def f_digit_print():\n",
        "  for num in range(34,35,36):\n",
        "    print(num)\n",
        "\n",
        "f_digit_print()"
      ]
    },
    {
      "cell_type": "code",
      "source": [
        "l_string = [\"kochi\",\"hyderabad\",\"delhi\"]\n",
        "for str in l_string:\n",
        "  l_string.append(str.upper())\n",
        "\n",
        "print(l_string)"
      ],
      "metadata": {
        "id": "nXDCH7pO1FbG"
      },
      "execution_count": null,
      "outputs": []
    },
    {
      "cell_type": "code",
      "source": [
        ""
      ],
      "metadata": {
        "id": "qElPSXe_1zqg"
      },
      "execution_count": null,
      "outputs": []
    }
  ]
}