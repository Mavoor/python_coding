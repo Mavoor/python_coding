{
  "nbformat": 4,
  "nbformat_minor": 0,
  "metadata": {
    "colab": {
      "name": "general_modules.ipynb",
      "provenance": [],
      "collapsed_sections": [],
      "authorship_tag": "ABX9TyND8v0ZUP0hggVjJ9LgOTzs",
      "include_colab_link": true
    },
    "kernelspec": {
      "name": "python3",
      "display_name": "Python 3"
    },
    "language_info": {
      "name": "python"
    }
  },
  "cells": [
    {
      "cell_type": "markdown",
      "metadata": {
        "id": "view-in-github",
        "colab_type": "text"
      },
      "source": [
        "<a href=\"https://colab.research.google.com/github/sparkprvn/python_coding/blob/main/general_modules.ipynb\" target=\"_parent\"><img src=\"https://colab.research.google.com/assets/colab-badge.svg\" alt=\"Open In Colab\"/></a>"
      ]
    },
    {
      "cell_type": "code",
      "execution_count": 3,
      "metadata": {
        "colab": {
          "base_uri": "https://localhost:8080/"
        },
        "id": "3z__zWo7zlR0",
        "outputId": "572ea222-73f8-4719-dc84-df85619d18d2"
      },
      "outputs": [
        {
          "output_type": "stream",
          "name": "stdout",
          "text": [
            "Generating 4 digit random OTP\n",
            "Secure random OTP is  7106\n"
          ]
        }
      ],
      "source": [
        "import secrets\n",
        "\n",
        "#Getting systemRandom class instance out of secrets module\n",
        "secretsGenerator = secrets.SystemRandom()\n",
        "\n",
        "print(\"Generating 4 digit random OTP\")\n",
        "otp = secretsGenerator.randrange(1000, 9999)\n",
        "\n",
        "print(\"Secure random OTP is \", otp)"
      ]
    },
    {
      "cell_type": "code",
      "source": [
        "import random\n",
        "import string\n",
        "\n",
        "def randomString(stringLength):\n",
        "    \"\"\"Generate a random string of 8charcters\"\"\"\n",
        "    letters = string.ascii_letters\n",
        "    return ''.join(random.choice(letters) for i in range(stringLength))\n",
        "\n",
        "print (\"Random String is \", randomString(8) )"
      ],
      "metadata": {
        "colab": {
          "base_uri": "https://localhost:8080/"
        },
        "id": "HolXqcqxzqMY",
        "outputId": "37b0a205-b5b0-44e3-c00c-b6da10132160"
      },
      "execution_count": 5,
      "outputs": [
        {
          "output_type": "stream",
          "name": "stdout",
          "text": [
            "Random String is  EeUFEoPK\n"
          ]
        }
      ]
    },
    {
      "cell_type": "code",
      "source": [
        ""
      ],
      "metadata": {
        "id": "2l4vvUTZz_gY"
      },
      "execution_count": null,
      "outputs": []
    }
  ]
}