{
  "nbformat": 4,
  "nbformat_minor": 0,
  "metadata": {
    "colab": {
      "name": "heartshape.ipynb",
      "provenance": [],
      "authorship_tag": "ABX9TyPSV4JwnH/2MzWZAdyxjAar",
      "include_colab_link": true
    },
    "kernelspec": {
      "name": "python3",
      "display_name": "Python 3"
    },
    "language_info": {
      "name": "python"
    }
  },
  "cells": [
    {
      "cell_type": "markdown",
      "metadata": {
        "id": "view-in-github",
        "colab_type": "text"
      },
      "source": [
        "<a href=\"https://colab.research.google.com/github/sparkprvn/python_coding/blob/main/heartshape.ipynb\" target=\"_parent\"><img src=\"https://colab.research.google.com/assets/colab-badge.svg\" alt=\"Open In Colab\"/></a>"
      ]
    },
    {
      "cell_type": "code",
      "execution_count": null,
      "metadata": {
        "id": "6kRJ_xnEJ3NP"
      },
      "outputs": [],
      "source": [
        "import numpy as np\n",
        "import plotly.express as px\n",
        "import pandas as pd\n",
        "import plotly.graph_objects as go\n",
        "def get_zvalue(a, b, x, y):\n",
        "    constant = x**2 + ((1+b)*y)**2 -1\n",
        "    c0 = constant**3\n",
        "    c1 = 0.0\n",
        "    c2 = 3*(constant**2)\n",
        "    c3 = -(a*(y**2)+x**2)\n",
        "    c4 = 3*constant\n",
        "    c5 = 0.0\n",
        "    c6 = 1.0\n",
        "    \n",
        "    coeff = [c6, c5, c4, c3, c2, c1, c0]\n",
        "    rts = np.roots(coeff) \n",
        "    z = rts[~np.iscomplex(rts)]\n",
        "    \n",
        "    if len(z) > 0:\n",
        "        zreal = z.real \n",
        "        return zreal\n",
        "    else:\n",
        "        return []\n",
        "        \n",
        "a, b = 9/200, 0.5\n",
        "x = np.arange(-2, 2, 0.010)\n",
        "y = x\n",
        "all_triplets = []\n",
        "for i in x:\n",
        "    for j in y:        \n",
        "        zaxis = get_zvalue(a, b, i, j)\n",
        "        for k in zaxis:\n",
        "            triplet = [i, j, k]\n",
        "            all_triplets.append(triplet)\n",
        "results= np.array(all_triplets).transpose()\n",
        "\n",
        "# Save the triplets in a data frame\n",
        "xaxis = results[0]\n",
        "yaxis = results[1]\n",
        "zaxis = results[2]\n",
        "df = pd.DataFrame({'x':xaxis, 'y':yaxis, 'z':zaxis})\n",
        "fig = go.Figure(data = px.scatter_3d(df, x='x', y='y', z='z', \n",
        "                                     color_discrete_sequence=['red'],\n",
        "                                     height=800, width=800, \n",
        "                                     template=\"plotly_white\"))\n",
        "\n",
        "fig.update_layout( \n",
        "    scene=dict(\n",
        "        xaxis=dict(showticklabels=False),\n",
        "        yaxis=dict(showticklabels=False),\n",
        "        zaxis=dict(showticklabels=False),\n",
        "        bgcolor='white'))\n",
        "\n",
        "fig.show()"
      ]
    }
  ]
}