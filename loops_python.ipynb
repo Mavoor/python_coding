{
  "nbformat": 4,
  "nbformat_minor": 0,
  "metadata": {
    "colab": {
      "name": "loops_python.ipynb",
      "provenance": [],
      "authorship_tag": "ABX9TyN3MoNWH5p/BBo14uEuEDdM",
      "include_colab_link": true
    },
    "kernelspec": {
      "name": "python3",
      "display_name": "Python 3"
    },
    "language_info": {
      "name": "python"
    }
  },
  "cells": [
    {
      "cell_type": "markdown",
      "metadata": {
        "id": "view-in-github",
        "colab_type": "text"
      },
      "source": [
        "<a href=\"https://colab.research.google.com/github/sparkprvn/python_coding/blob/main/loops_python.ipynb\" target=\"_parent\"><img src=\"https://colab.research.google.com/assets/colab-badge.svg\" alt=\"Open In Colab\"/></a>"
      ]
    },
    {
      "cell_type": "code",
      "execution_count": null,
      "metadata": {
        "id": "b96lye6szeJP"
      },
      "outputs": [],
      "source": [
        "# Working with while loops in python"
      ]
    },
    {
      "cell_type": "markdown",
      "source": [
        ""
      ],
      "metadata": {
        "id": "bhSkszMGz5cP"
      }
    },
    {
      "cell_type": "code",
      "source": [
        "# simple while loop\n",
        "\n",
        "i = 1\n",
        "while i < 6:\n",
        "  print(i)\n",
        "  i += 1\n"
      ],
      "metadata": {
        "colab": {
          "base_uri": "https://localhost:8080/"
        },
        "id": "t0zMvkM3z93A",
        "outputId": "a8fa426d-fd25-4f47-837d-f4b78c512231"
      },
      "execution_count": 1,
      "outputs": [
        {
          "output_type": "stream",
          "name": "stdout",
          "text": [
            "1\n",
            "2\n",
            "3\n",
            "4\n",
            "5\n"
          ]
        }
      ]
    },
    {
      "cell_type": "code",
      "source": [
        ""
      ],
      "metadata": {
        "id": "kl5P8v9d0Cn4"
      },
      "execution_count": null,
      "outputs": []
    }
  ]
}