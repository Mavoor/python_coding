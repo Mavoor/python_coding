{
  "nbformat": 4,
  "nbformat_minor": 0,
  "metadata": {
    "colab": {
      "name": "diabetes_data_analysis.ipynb",
      "provenance": [],
      "collapsed_sections": [],
      "authorship_tag": "ABX9TyPpzwjmfRZjptvVCLEgR0Kp",
      "include_colab_link": true
    },
    "kernelspec": {
      "name": "python3",
      "display_name": "Python 3"
    },
    "language_info": {
      "name": "python"
    }
  },
  "cells": [
    {
      "cell_type": "markdown",
      "metadata": {
        "id": "view-in-github",
        "colab_type": "text"
      },
      "source": [
        "<a href=\"https://colab.research.google.com/github/sparkprvn/python_coding/blob/main/diabetes_data_analysis.ipynb\" target=\"_parent\"><img src=\"https://colab.research.google.com/assets/colab-badge.svg\" alt=\"Open In Colab\"/></a>"
      ]
    },
    {
      "cell_type": "code",
      "execution_count": null,
      "metadata": {
        "id": "bsFrIn4Ob7U7"
      },
      "outputs": [],
      "source": [
        "import pandas as pd\n",
        "\n",
        "df = pd.read_csv('/data/diabetes.csv')\n"
      ]
    },
    {
      "cell_type": "code",
      "source": [
        "df.head()"
      ],
      "metadata": {
        "id": "RMnSBRNlcMtW"
      },
      "execution_count": null,
      "outputs": []
    },
    {
      "cell_type": "code",
      "source": [
        "import matplotlib.pyplot as plt\n",
        "import seaborn as sns\n",
        "color = sns.color_palette()\n",
        "get_ipython().run_line_magic('matplotlib', 'inline')\n"
      ],
      "metadata": {
        "id": "WS4u5U8Dc9jG"
      },
      "execution_count": null,
      "outputs": []
    },
    {
      "cell_type": "code",
      "source": [
        "import plotly.offline as py\n",
        "import plotly.graph_objs as go\n",
        "import plotly.tools as tls\n",
        "import plotly.express as px\n",
        "import numpy as np\n",
        "py.init_notebook_mode(connected=True)\n"
      ],
      "metadata": {
        "colab": {
          "base_uri": "https://localhost:8080/",
          "height": 17
        },
        "id": "XI6RTQHcdhng",
        "outputId": "b52340f6-66b2-4821-cbb5-5c9356634194"
      },
      "execution_count": null,
      "outputs": [
        {
          "output_type": "display_data",
          "data": {
            "text/html": [
              "        <script type=\"text/javascript\">\n",
              "        window.PlotlyConfig = {MathJaxConfig: 'local'};\n",
              "        if (window.MathJax) {MathJax.Hub.Config({SVG: {font: \"STIX-Web\"}});}\n",
              "        if (typeof require !== 'undefined') {\n",
              "        require.undef(\"plotly\");\n",
              "        requirejs.config({\n",
              "            paths: {\n",
              "                'plotly': ['https://cdn.plot.ly/plotly-2.8.3.min']\n",
              "            }\n",
              "        });\n",
              "        require(['plotly'], function(Plotly) {\n",
              "            window._Plotly = Plotly;\n",
              "        });\n",
              "        }\n",
              "        </script>\n",
              "        "
            ]
          },
          "metadata": {}
        }
      ]
    },
    {
      "cell_type": "code",
      "source": [
        "dist = df['Outcome'].value_counts()\n",
        "colors = ['mediumturquoise', 'darkorange']\n",
        "trace = go.Pie(values=(np.array(dist)),labels=dist.index)\n",
        "layout = go.Layout(title='Diabetes Outcome')\n",
        "data = [trace]\n",
        "fig = go.Figure(trace,layout)\n",
        "fig.update_traces(marker=dict(colors=colors, line=dict(color='#000000', width=2)))\n",
        "fig.show()\n"
      ],
      "metadata": {
        "id": "llgG3W25dmzW"
      },
      "execution_count": null,
      "outputs": []
    },
    {
      "cell_type": "code",
      "source": [
        "def df_to_plotly(df):\n",
        "    return {'z': df.values.tolist(),\n",
        "            'x': df.columns.tolist(),\n",
        "            'y': df.index.tolist() }\n",
        "import plotly.graph_objects as go\n",
        "dfNew = df.corr()\n",
        "fig = go.Figure(data=go.Heatmap(df_to_plotly(dfNew)))\n",
        "fig.show()"
      ],
      "metadata": {
        "id": "YK7AChyqdqkY"
      },
      "execution_count": null,
      "outputs": []
    },
    {
      "cell_type": "code",
      "source": [
        "fig = px.scatter(df, x='Glucose', y='Insulin')\n",
        "fig.update_traces(marker_color=\"turquoise\",marker_line_color='rgb(8,48,107)',\n",
        "                  marker_line_width=1.5)\n",
        "fig.update_layout(title_text='Glucose and Insulin')\n",
        "fig.show()"
      ],
      "metadata": {
        "id": "a448qUAreBTU"
      },
      "execution_count": null,
      "outputs": []
    },
    {
      "cell_type": "code",
      "source": [
        "fig = px.box(df, x='Outcome', y='Age')\n",
        "fig.update_traces(marker_color=\"midnightblue\",marker_line_color='rgb(8,48,107)',\n",
        "                  marker_line_width=1.5)\n",
        "fig.update_layout(title_text='Age and Outcome')\n",
        "fig.show()"
      ],
      "metadata": {
        "id": "Q43vMQQoeHAU"
      },
      "execution_count": null,
      "outputs": []
    },
    {
      "cell_type": "code",
      "source": [
        "plot = sns.boxplot(x='Outcome',y=\"BMI\",data=df)"
      ],
      "metadata": {
        "id": "uF_rXRWleWNu"
      },
      "execution_count": null,
      "outputs": []
    }
  ]
}
