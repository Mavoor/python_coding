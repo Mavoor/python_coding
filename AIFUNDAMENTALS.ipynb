{
  "nbformat": 4,
  "nbformat_minor": 0,
  "metadata": {
    "colab": {
      "name": "AIFUNDAMENTALS.ipynb",
      "provenance": [],
      "collapsed_sections": [],
      "authorship_tag": "ABX9TyNbyLhBqGCbw9ye+oUp9UQQ",
      "include_colab_link": true
    },
    "kernelspec": {
      "name": "python3",
      "display_name": "Python 3"
    },
    "language_info": {
      "name": "python"
    }
  },
  "cells": [
    {
      "cell_type": "markdown",
      "metadata": {
        "id": "view-in-github",
        "colab_type": "text"
      },
      "source": [
        "<a href=\"https://colab.research.google.com/github/sparkprvn/python_coding/blob/main/AIFUNDAMENTALS.ipynb\" target=\"_parent\"><img src=\"https://colab.research.google.com/assets/colab-badge.svg\" alt=\"Open In Colab\"/></a>"
      ]
    },
    {
      "cell_type": "code",
      "execution_count": null,
      "metadata": {
        "id": "Ahi7K7ci_Vg5"
      },
      "outputs": [],
      "source": [
        "# AI FUNDAMENTALS\n",
        "# DATACAMP\n",
        "\n",
        "# Load the test example\n",
        "elephant_image = load_elephant()\n",
        "\n",
        "# Apply the model on the test example\n",
        "test_digit_predictor(elephant_image, 'elephant')"
      ]
    },
    {
      "cell_type": "code",
      "source": [
        "# testing the model accuracy/performance\n",
        "\n",
        "# Define the model\n",
        "model = LogisticRegression(C=100)\n",
        "\n",
        "# Fit the model\n",
        "model.fit(training_inputs, training_labels)\n",
        "\n",
        "# Check model performance\n",
        "check_performance(model, testing_inputs, testing_labels)"
      ],
      "metadata": {
        "id": "ghZzgrrw_sp-"
      },
      "execution_count": null,
      "outputs": []
    }
  ]
}