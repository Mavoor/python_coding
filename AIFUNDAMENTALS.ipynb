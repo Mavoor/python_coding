{
  "nbformat": 4,
  "nbformat_minor": 0,
  "metadata": {
    "colab": {
      "name": "AIFUNDAMENTALS.ipynb",
      "provenance": [],
      "collapsed_sections": [],
      "authorship_tag": "ABX9TyP0hW84svYImVo2FTghpw3E",
      "include_colab_link": true
    },
    "kernelspec": {
      "name": "python3",
      "display_name": "Python 3"
    },
    "language_info": {
      "name": "python"
    }
  },
  "cells": [
    {
      "cell_type": "markdown",
      "metadata": {
        "id": "view-in-github",
        "colab_type": "text"
      },
      "source": [
        "<a href=\"https://colab.research.google.com/github/sparkprvn/python_coding/blob/main/AIFUNDAMENTALS.ipynb\" target=\"_parent\"><img src=\"https://colab.research.google.com/assets/colab-badge.svg\" alt=\"Open In Colab\"/></a>"
      ]
    },
    {
      "cell_type": "code",
      "execution_count": null,
      "metadata": {
        "id": "Ahi7K7ci_Vg5"
      },
      "outputs": [],
      "source": [
        "# AI FUNDAMENTALS\n",
        "# DATACAMP\n",
        "\n",
        "# Load the test example\n",
        "elephant_image = load_elephant()\n",
        "\n",
        "# Apply the model on the test example\n",
        "test_digit_predictor(elephant_image, 'elephant')"
      ]
    },
    {
      "cell_type": "code",
      "source": [
        "# testing the model accuracy/performance\n",
        "\n",
        "# Define the model\n",
        "model = LogisticRegression(C=100)\n",
        "\n",
        "# Fit the model\n",
        "model.fit(training_inputs, training_labels)\n",
        "\n",
        "# Check model performance\n",
        "check_performance(model, testing_inputs, testing_labels)"
      ],
      "metadata": {
        "id": "ghZzgrrw_sp-"
      },
      "execution_count": null,
      "outputs": []
    },
    {
      "cell_type": "code",
      "source": [
        "#simple model\n",
        "\n",
        "\n",
        "# Select the model appropriate for the task\n",
        "model = DecisionTreeClassifier()\n",
        "\n",
        "# Train the model\n",
        "model.fit(X=X_train, y=y_train)\n",
        "\n",
        "# Generate predictions\n",
        "prediction_results = model.predict(X=X_test) \n",
        "\n",
        "# Test the model\n",
        "evaluate_predictions(y_true=y_test,\n",
        "                     y_pred=prediction_results)"
      ],
      "metadata": {
        "id": "guFxGvKMEJL6"
      },
      "execution_count": null,
      "outputs": []
    },
    {
      "cell_type": "code",
      "source": [
        "#calling a simple classification model\n",
        "\n",
        "# Select the model\n",
        "model = LogisticRegression()\n",
        "\n",
        "# Train the model\n",
        "model.fit(X_train, y_train)"
      ],
      "metadata": {
        "id": "zA-qzYRmEQp8"
      },
      "execution_count": null,
      "outputs": []
    }
  ]
}