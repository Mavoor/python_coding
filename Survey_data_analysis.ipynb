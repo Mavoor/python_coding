{
  "nbformat": 4,
  "nbformat_minor": 0,
  "metadata": {
    "colab": {
      "name": "Survey_data_analysis.ipynb",
      "provenance": [],
      "authorship_tag": "ABX9TyPaS9ahka58k5QnJJUlXQZO",
      "include_colab_link": true
    },
    "kernelspec": {
      "name": "python3",
      "display_name": "Python 3"
    },
    "language_info": {
      "name": "python"
    }
  },
  "cells": [
    {
      "cell_type": "markdown",
      "metadata": {
        "id": "view-in-github",
        "colab_type": "text"
      },
      "source": [
        "<a href=\"https://colab.research.google.com/github/sparkprvn/python_coding/blob/main/Survey_data_analysis.ipynb\" target=\"_parent\"><img src=\"https://colab.research.google.com/assets/colab-badge.svg\" alt=\"Open In Colab\"/></a>"
      ]
    },
    {
      "cell_type": "code",
      "execution_count": null,
      "metadata": {
        "id": "9SLIlPYDMLqO"
      },
      "outputs": [],
      "source": [
        "import pandas as pd\n",
        "\n",
        "survey_df = pd.read_csv(\"data/survey.csv\")"
      ]
    },
    {
      "cell_type": "code",
      "source": [
        "survey_df.head()"
      ],
      "metadata": {
        "id": "6itJRtT4McSU"
      },
      "execution_count": null,
      "outputs": []
    }
  ]
}