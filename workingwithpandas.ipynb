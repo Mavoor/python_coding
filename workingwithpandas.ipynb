{
  "nbformat": 4,
  "nbformat_minor": 0,
  "metadata": {
    "colab": {
      "name": "workingwithpandas.ipynb",
      "provenance": [],
      "collapsed_sections": [],
      "authorship_tag": "ABX9TyMo2DSqqb6lgaLhwRfA1fQl",
      "include_colab_link": true
    },
    "kernelspec": {
      "name": "python3",
      "display_name": "Python 3"
    },
    "language_info": {
      "name": "python"
    }
  },
  "cells": [
    {
      "cell_type": "markdown",
      "metadata": {
        "id": "view-in-github",
        "colab_type": "text"
      },
      "source": [
        "<a href=\"https://colab.research.google.com/github/sparkprvn/python_coding/blob/main/workingwithpandas.ipynb\" target=\"_parent\"><img src=\"https://colab.research.google.com/assets/colab-badge.svg\" alt=\"Open In Colab\"/></a>"
      ]
    },
    {
      "cell_type": "code",
      "execution_count": null,
      "metadata": {
        "id": "MNhETZDBJsAi"
      },
      "outputs": [],
      "source": [
        "import pandas as pd \n",
        "\n",
        "df = pd.read_csv(\"example.csv\", index = 'Column_name')"
      ]
    },
    {
      "cell_type": "markdown",
      "source": [
        "working with pandas csv file loading and choosing an index column"
      ],
      "metadata": {
        "id": "btdUJBv6Jx7N"
      }
    },
    {
      "cell_type": "markdown",
      "source": [
        "working with names data"
      ],
      "metadata": {
        "id": "2goaIe4pLBiH"
      }
    },
    {
      "cell_type": "code",
      "source": [
        " names_df = pd.read_csv('/data/names.csv', names=['name', 'sex', 'births'])\n",
        " names_df"
      ],
      "metadata": {
        "id": "QGhubP8YLD65"
      },
      "execution_count": null,
      "outputs": []
    },
    {
      "cell_type": "code",
      "source": [
        " names1880.groupby('sex').births.sum()"
      ],
      "metadata": {
        "id": "kGR4HBnCLRM_"
      },
      "execution_count": null,
      "outputs": []
    }
  ]
}